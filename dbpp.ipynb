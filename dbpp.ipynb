{
 "cells": [
  {
   "cell_type": "code",
   "execution_count": 1,
   "id": "97dd0f79-fd07-4655-83c6-7ff99ad2e8f1",
   "metadata": {},
   "outputs": [
    {
     "name": "stdout",
     "output_type": "stream",
     "text": [
      "<class 'pandas.core.frame.DataFrame'>\n",
      "RangeIndex: 2714 entries, 0 to 2713\n",
      "Data columns (total 14 columns):\n",
      " #   Column                     Non-Null Count  Dtype  \n",
      "---  ------                     --------------  -----  \n",
      " 0   Year of event              2714 non-null   int64  \n",
      " 1   Event dates                2714 non-null   object \n",
      " 2   Event name                 2714 non-null   object \n",
      " 3   distance                   2695 non-null   float64\n",
      " 4   Event number of finishers  2714 non-null   int64  \n",
      " 5   Athlete performance        2714 non-null   object \n",
      " 6   Athlete club               2714 non-null   object \n",
      " 7   Athlete country            2714 non-null   object \n",
      " 8   Athlete year of birth      2714 non-null   float64\n",
      " 9   Athlete gender             2714 non-null   object \n",
      " 10  Athlete age category       2714 non-null   object \n",
      " 11  average speed              2714 non-null   float64\n",
      " 12  Athlete ID                 2714 non-null   int64  \n",
      " 13  athlete age                2714 non-null   float64\n",
      "dtypes: float64(4), int64(3), object(7)\n",
      "memory usage: 297.0+ KB\n",
      "None\n",
      "   Year of event Event dates           Event name  distance  \\\n",
      "0           2018  06.01.2018  Selva Costera (CHI)      50.0   \n",
      "1           2018  06.01.2018  Selva Costera (CHI)      50.0   \n",
      "2           2018  06.01.2018  Selva Costera (CHI)      50.0   \n",
      "3           2018  06.01.2018  Selva Costera (CHI)      50.0   \n",
      "4           2018  06.01.2018  Selva Costera (CHI)      50.0   \n",
      "\n",
      "   Event number of finishers Athlete performance        Athlete club  \\\n",
      "0                         22           4:51:39 h               Tnfrc   \n",
      "1                         22           5:15:45 h  Roberto Echeverría   \n",
      "2                         22           5:16:44 h   Puro Trail Osorno   \n",
      "3                         22           5:34:13 h            Columbia   \n",
      "4                         22           5:54:14 h      Baguales Trail   \n",
      "\n",
      "  Athlete country  Athlete year of birth Athlete gender Athlete age category  \\\n",
      "0             CHI                 1978.0              M                   35   \n",
      "1             CHI                 1981.0              M                   35   \n",
      "2             CHI                 1987.0              M                   23   \n",
      "3             ARG                 1976.0              M                   40   \n",
      "4             CHI                 1992.0              M                   23   \n",
      "\n",
      "   average speed  Athlete ID  athlete age  \n",
      "0         10.286           0         40.0  \n",
      "1          9.501           1         37.0  \n",
      "2          9.472           2         31.0  \n",
      "3          8.976           3         42.0  \n",
      "4          8.469           4         26.0  \n"
     ]
    }
   ],
   "source": [
    "import pandas as pd\n",
    "\n",
    "# Load dataset\n",
    "file_path = \"marathon_db_3000_final_cleaned.csv\"\n",
    "df = pd.read_csv(file_path, low_memory=False)\n",
    "\n",
    "# Display basic info\n",
    "print(df.info())\n",
    "print(df.head())\n"
   ]
  },
  {
   "cell_type": "code",
   "execution_count": 2,
   "id": "ed61f1d4-ff14-4548-b21a-81bf2c60e528",
   "metadata": {},
   "outputs": [
    {
     "name": "stdout",
     "output_type": "stream",
     "text": [
      "Year of event                 0\n",
      "Event dates                   0\n",
      "Event name                    0\n",
      "distance                     19\n",
      "Event number of finishers     0\n",
      "Athlete performance           0\n",
      "Athlete club                  0\n",
      "Athlete country               0\n",
      "Athlete year of birth         0\n",
      "Athlete gender                0\n",
      "Athlete age category          0\n",
      "average speed                 0\n",
      "Athlete ID                    0\n",
      "athlete age                   0\n",
      "dtype: int64\n"
     ]
    }
   ],
   "source": [
    "# Check missing values\n",
    "print(df.isnull().sum())\n",
    "\n",
    "# Fill missing values for numerical columns with mean\n",
    "df.fillna(df.mean(numeric_only=True), inplace=True)\n",
    "\n",
    "# Fill missing values for categorical columns with mode\n",
    "df.fillna(df.mode().iloc[0], inplace=True)\n"
   ]
  },
  {
   "cell_type": "code",
   "execution_count": 3,
   "id": "5a9da86a-e180-4352-bdde-82dd0b4d5f88",
   "metadata": {},
   "outputs": [
    {
     "name": "stdout",
     "output_type": "stream",
     "text": [
      "   Year of event Event dates           Event name  distance  \\\n",
      "0           2018  06.01.2018  Selva Costera (CHI)      50.0   \n",
      "1           2018  06.01.2018  Selva Costera (CHI)      50.0   \n",
      "2           2018  06.01.2018  Selva Costera (CHI)      50.0   \n",
      "3           2018  06.01.2018  Selva Costera (CHI)      50.0   \n",
      "4           2018  06.01.2018  Selva Costera (CHI)      50.0   \n",
      "\n",
      "   Event number of finishers Athlete performance        Athlete club  \\\n",
      "0                         22           4:51:39 h               Tnfrc   \n",
      "1                         22           5:15:45 h  Roberto Echeverría   \n",
      "2                         22           5:16:44 h   Puro Trail Osorno   \n",
      "3                         22           5:34:13 h            Columbia   \n",
      "4                         22           5:54:14 h      Baguales Trail   \n",
      "\n",
      "  Athlete country  Athlete year of birth Athlete gender Athlete age category  \\\n",
      "0             CHI                 1978.0              M                   35   \n",
      "1             CHI                 1981.0              M                   35   \n",
      "2             CHI                 1987.0              M                   23   \n",
      "3             ARG                 1976.0              M                   40   \n",
      "4             CHI                 1992.0              M                   23   \n",
      "\n",
      "   average speed  Athlete ID  athlete age  \n",
      "0         10.286           0         40.0  \n",
      "1          9.501           1         37.0  \n",
      "2          9.472           2         31.0  \n",
      "3          8.976           3         42.0  \n",
      "4          8.469           4         26.0  \n"
     ]
    }
   ],
   "source": [
    "print(df.head())"
   ]
  },
  {
   "cell_type": "code",
   "execution_count": 4,
   "id": "3ee45d72-48f0-4639-bb2d-cd53768f9267",
   "metadata": {},
   "outputs": [
    {
     "name": "stdout",
     "output_type": "stream",
     "text": [
      "Dataset size after removing duplicates: (2714, 14)\n"
     ]
    }
   ],
   "source": [
    "# Remove duplicates\n",
    "df.drop_duplicates(inplace=True)\n",
    "\n",
    "# Verify changes\n",
    "print(f\"Dataset size after removing duplicates: {df.shape}\")\n"
   ]
  },
  {
   "cell_type": "code",
   "execution_count": 5,
   "id": "526c9955-9c93-4fa1-b3e8-e2b219dba16f",
   "metadata": {},
   "outputs": [
    {
     "name": "stdout",
     "output_type": "stream",
     "text": [
      "Cleaned dataset saved at: marathon_db_3000_cleaned.csv\n"
     ]
    }
   ],
   "source": [
    "cleaned_file_path = \"marathon_db_3000_cleaned.csv\"\n",
    "df.to_csv(cleaned_file_path, index=False)\n",
    "\n",
    "print(f\"Cleaned dataset saved at: {cleaned_file_path}\")\n"
   ]
  },
  {
   "cell_type": "code",
   "execution_count": 6,
   "id": "9d199e35-bbc6-41f0-b9f0-bc23aeae0276",
   "metadata": {},
   "outputs": [
    {
     "name": "stdout",
     "output_type": "stream",
     "text": [
      "<class 'pandas.core.frame.DataFrame'>\n",
      "RangeIndex: 2714 entries, 0 to 2713\n",
      "Data columns (total 14 columns):\n",
      " #   Column                     Non-Null Count  Dtype  \n",
      "---  ------                     --------------  -----  \n",
      " 0   Year of event              2714 non-null   int64  \n",
      " 1   Event dates                2714 non-null   object \n",
      " 2   Event name                 2714 non-null   object \n",
      " 3   distance                   2695 non-null   float64\n",
      " 4   Event number of finishers  2714 non-null   int64  \n",
      " 5   Athlete performance        2714 non-null   object \n",
      " 6   Athlete club               2714 non-null   object \n",
      " 7   Athlete country            2714 non-null   object \n",
      " 8   Athlete year of birth      2714 non-null   float64\n",
      " 9   Athlete gender             2714 non-null   object \n",
      " 10  Athlete age category       2714 non-null   object \n",
      " 11  average speed              2714 non-null   float64\n",
      " 12  Athlete ID                 2714 non-null   int64  \n",
      " 13  athlete age                2714 non-null   float64\n",
      "dtypes: float64(4), int64(3), object(7)\n",
      "memory usage: 297.0+ KB\n",
      "None\n",
      "   Year of event Event dates           Event name  distance  \\\n",
      "0           2018  06.01.2018  Selva Costera (CHI)      50.0   \n",
      "1           2018  06.01.2018  Selva Costera (CHI)      50.0   \n",
      "2           2018  06.01.2018  Selva Costera (CHI)      50.0   \n",
      "3           2018  06.01.2018  Selva Costera (CHI)      50.0   \n",
      "4           2018  06.01.2018  Selva Costera (CHI)      50.0   \n",
      "\n",
      "   Event number of finishers Athlete performance        Athlete club  \\\n",
      "0                         22           4:51:39 h               Tnfrc   \n",
      "1                         22           5:15:45 h  Roberto Echeverría   \n",
      "2                         22           5:16:44 h   Puro Trail Osorno   \n",
      "3                         22           5:34:13 h            Columbia   \n",
      "4                         22           5:54:14 h      Baguales Trail   \n",
      "\n",
      "  Athlete country  Athlete year of birth Athlete gender Athlete age category  \\\n",
      "0             CHI                 1978.0              M                   35   \n",
      "1             CHI                 1981.0              M                   35   \n",
      "2             CHI                 1987.0              M                   23   \n",
      "3             ARG                 1976.0              M                   40   \n",
      "4             CHI                 1992.0              M                   23   \n",
      "\n",
      "   average speed  Athlete ID  athlete age  \n",
      "0         10.286           0         40.0  \n",
      "1          9.501           1         37.0  \n",
      "2          9.472           2         31.0  \n",
      "3          8.976           3         42.0  \n",
      "4          8.469           4         26.0  \n"
     ]
    }
   ],
   "source": [
    "import pandas as pd\n",
    "\n",
    "# Load the cleaned dataset\n",
    "file_path = \"marathon_db_3000_final_cleaned.csv\"\n",
    "df = pd.read_csv(file_path)\n",
    "\n",
    "# Display basic info and check for missing values\n",
    "print(df.info())\n",
    "print(df.head())\n"
   ]
  },
  {
   "cell_type": "code",
   "execution_count": 7,
   "id": "043b9627-1e6b-4e47-a2f9-37dc7afba5d5",
   "metadata": {},
   "outputs": [],
   "source": [
    "df['athlete age'] = df['Year of event'] - df['Athlete year of birth']  # Assuming the event is in 2025\n"
   ]
  },
  {
   "cell_type": "code",
   "execution_count": 16,
   "id": "caa0aa3c-f4cd-435b-bd08-a41d883117c8",
   "metadata": {},
   "outputs": [
    {
     "data": {
      "image/png": "[encoded data removed]",
      "text/plain": [
       "<Figure size 800x500 with 1 Axes>"
      ]
     },
     "metadata": {},
     "output_type": "display_data"
    }
   ],
   "source": [
    "import matplotlib.pyplot as plt\n",
    "import seaborn as sns\n",
    "plt.figure(figsize=(8, 5))\n",
    "sns.histplot(df['athlete age'], bins=20, kde=True, color=\"blue\")\n",
    "plt.title(\"Age Distribution of Athletes\")\n",
    "plt.xlabel(\"Age\")\n",
    "plt.ylabel(\"Count\")\n",
    "plt.show()\n"
   ]
  },
  {
   "cell_type": "code",
   "execution_count": 9,
   "id": "ab549def-c4b7-4480-bffa-46860b998e3f",
   "metadata": {},
   "outputs": [
    {
     "name": "stdout",
     "output_type": "stream",
     "text": [
      "Final dataset saved successfully.\n"
     ]
    }
   ],
   "source": [
    "df.to_csv(\"marathon_db_3000_final.csv\", index=False)\n",
    "print(\"Final dataset saved successfully.\")\n"
   ]
  },
  {
   "cell_type": "code",
   "execution_count": null,
   "id": "10afaf4c-68d5-4522-a3e1-bf411a9ae922",
   "metadata": {},
   "outputs": [],
   "source": []
  }
 ],
 "metadata": {
  "kernelspec": {
   "display_name": "Python 3 (ipykernel)",
   "language": "python",
   "name": "python3"
  },
  "language_info": {
   "codemirror_mode": {
    "name": "ipython",
    "version": 3
   },
   "file_extension": ".py",
   "mimetype": "text/x-python",
   "name": "python",
   "nbconvert_exporter": "python",
   "pygments_lexer": "ipython3",
   "version": "3.13.2"
  }
 },
 "nbformat": 4,
 "nbformat_minor": 5
}
